{
 "cells": [
  {
   "cell_type": "markdown",
   "metadata": {},
   "source": [
    "**Задание 1**. Даны 2 строки: *long_phrase* и *short_phrase*. \n",
    "Напишите код, который проверяет действительно ли длинная фраза *long_phrase* длиннее короткой *short_phrase*. И выводит *True* или *False* в зависимости от результата сравнения."
   ]
  },
  {
   "cell_type": "code",
   "execution_count": 5,
   "metadata": {},
   "outputs": [],
   "source": [
    "long_phrase = 'Насколько проще было бы писать программы, если бы не заказчики'\n",
    "short_phrase = '640Кб должно хватить для любых задач. Билл Гейтс (по легенде)'"
   ]
  },
  {
   "cell_type": "code",
   "execution_count": 6,
   "metadata": {},
   "outputs": [
    {
     "data": {
      "text/plain": [
       "True"
      ]
     },
     "execution_count": 6,
     "metadata": {},
     "output_type": "execute_result"
    }
   ],
   "source": [
    "len (long_phrase) > len (short_phrase)"
   ]
  },
  {
   "cell_type": "markdown",
   "metadata": {},
   "source": [
    "**Задание 2**. Дано значение объема файла в байтах. Напишите перевод этого значения в мегабайты в формате: \"*Объем файла равен 213.68Mb*\""
   ]
  },
  {
   "cell_type": "code",
   "execution_count": 14,
   "metadata": {},
   "outputs": [
    {
     "name": "stdout",
     "output_type": "stream",
     "text": [
      "Объем файла равен 123.46 Mb\n"
     ]
    }
   ],
   "source": [
    "file_size_in_byte = 123456789\n",
    "file_size_in_mb = round (file_size_in_byte * 0.0000010, 2)\n",
    "print (\"Объем файла равен\", file_size_in_mb,\"Mb\")"
   ]
  },
  {
   "cell_type": "markdown",
   "metadata": {},
   "source": [
    "**Задание 3**. Разработать приложение для определения знака зодиака по дате рождения. Пример:\n",
    "\n",
    "Введите месяц: март\n",
    "\n",
    "Введите число: 6\n",
    "\n",
    "Вывод:\n",
    "Рыбы"
   ]
  },
  {
   "cell_type": "code",
   "execution_count": 45,
   "metadata": {},
   "outputs": [
    {
     "name": "stdout",
     "output_type": "stream",
     "text": [
      "Введите месяц апрель\n",
      "Введите число 21\n",
      "Телец\n"
     ]
    }
   ],
   "source": [
    "month = input (\"Введите месяц \")\n",
    "date = int(input (\"Введите число \"))\n",
    "if month == \"март\":\n",
    "    if date >= 21:\n",
    "        print(\"Овен\")\n",
    "if month == \"апрель\":\n",
    "    if date <= 20:\n",
    "        print(\"Овен\")\n",
    "if month == \"апрель\":\n",
    "    if date >= 21:\n",
    "        print(\"Телец\")\n",
    "if month == \"май\":\n",
    "    if date <= 20:\n",
    "        print(\"Телец\")\n",
    "if month == \"май\":\n",
    "    if date >= 21:\n",
    "        print(\"Близнецы\")\n",
    "if month == \"июнь\":\n",
    "    if date <= 21:\n",
    "        print(\"Близнецы\")\n",
    "if month == \"июнь\":\n",
    "    if date >= 22:\n",
    "        print(\"Рак\")\n",
    "if month == \"июль\":\n",
    "    if date <= 22:\n",
    "        print(\"Рак\")\n",
    "if month == \"июль\":\n",
    "    if date >= 23:\n",
    "        print(\"Лев\")\n",
    "if month == \"август\":\n",
    "    if date <= 23:\n",
    "        print(\"Лев\")        \n",
    "if month == \"август\":\n",
    "    if date >= 24:\n",
    "        print(\"Дева\")\n",
    "if month == \"сентябрь\":\n",
    "    if date <= 23:\n",
    "        print(\"Дева\")\n",
    "if month == \"сентябрь\":\n",
    "    if date >= 24:\n",
    "        print(\"Весы\")\n",
    "if month == \"октябрь\":\n",
    "    if date <= 23:\n",
    "        print(\"Весы\")\n",
    "if month == \"октябрь\":\n",
    "    if date >= 24:\n",
    "        print(\"Скорпион\")\n",
    "if month == \"нояьбрь\":\n",
    "    if date <= 22:\n",
    "        print(\"Скорпион\")        \n",
    "if month == \"ноябрь\":\n",
    "    if date >= 23:\n",
    "        print(\"Стрелец\")\n",
    "if month == \"декабрь\":\n",
    "    if date <= 21:\n",
    "        print(\"Стрелец\")        \n",
    "if month == \"декабрь\":\n",
    "    if date >= 22:\n",
    "        print(\"Козерог\")\n",
    "if month == \"январь\":\n",
    "    if date <= 20:\n",
    "        print(\"Козерог\")        \n",
    "if month == \"январь\":\n",
    "    if date >= 21:\n",
    "        print(\"Водолей\")\n",
    "if month == \"февраль\":\n",
    "    if date <= 20:\n",
    "        print(\"Водолей\")        \n",
    "if month == \"февраль\":\n",
    "    if date >= 21:\n",
    "        print(\"Рыбы\")\n",
    "if month == \"март\":\n",
    "    if date <= 20:\n",
    "        print(\"Рыбы\")\n",
    "        \n",
    "        \n",
    "        \n",
    "        \n",
    "        "
   ]
  },
  {
   "cell_type": "markdown",
   "metadata": {},
   "source": [
    "**Задание 4**. Нужно разработать приложение для финансового планирования.\n",
    "Приложение учитывает сколько уходит на ипотеку, \"на жизнь\" и сколько нужно отложить на пенсию.\n",
    "Пользователь вводит:\n",
    "- заработанную плату в месяц.\n",
    "- сколько процентов от ЗП уходит на ипотеку.\n",
    "- сколько процентов от ЗП уходит \"на жизнь\".\n",
    "- сколько раз приходит премия в год.\n",
    "\n",
    "Остальная часть заработанной платы откладывается на пенсию.\n",
    "\n",
    "Также пользователю приходит премия в размере зарплаты, от которой половина уходит на отпуск, а вторая половина откладывается.\n",
    "\n",
    "Программа должна учитывать сколько премий было в год.\n",
    "\n",
    "Нужно вывести сколько денег тратит пользователь на ипотеку и сколько он накопит за год.\n",
    "\n",
    "Пример:\n",
    "\n",
    "Введите заработанную плату в месяц: 100000\n",
    "\n",
    "Введите сколько процентов уходит на ипотеку: 30\n",
    "\n",
    "Введите сколько процентов уходит на жизнь: 50\n",
    "\n",
    "Введите количество премий за год: 2\n",
    "\n",
    "Вывод:\n",
    "На ипотеку было потрачено: 360000 рублей\n",
    "Было накоплено: 340000 рублей"
   ]
  },
  {
   "cell_type": "code",
   "execution_count": 38,
   "metadata": {},
   "outputs": [
    {
     "name": "stdout",
     "output_type": "stream",
     "text": [
      "Заработаная плата в месяц 100000\n",
      "Доля от ЗП на ипотеку 0.3\n",
      "Доля от ЗП на 'жизнь' 0.5\n",
      "Сколько раз в год приходит премия 2\n",
      "На ипотеку было потрачено 360000.0 Было накоплено 340000.0\n"
     ]
    }
   ],
   "source": [
    "salary = int(input(\"Заработаная плата в месяц \"))\n",
    "mortgage_interest = float(input(\"Доля от ЗП на ипотеку \"))\n",
    "for_life_interest = float(input(\"Доля от ЗП на 'жизнь' \"))\n",
    "number_of_bonus = int(input(\"Сколько раз в год приходит премия \"))\n",
    "year_bonus = salary * number_of_bonus\n",
    "year_salary = salary * 12\n",
    "year_mortgage = mortgage_interest * year_salary\n",
    "year_for_life = year_salary * for_life_interest\n",
    "vacation_budget = year_bonus * 0.5\n",
    "\n",
    "print(\"На ипотеку было потрачено\", year_mortgage, \"Было накоплено\", \n",
    "      year_salary - year_mortgage - year_for_life - vacation_budget + year_bonus)"
   ]
  },
  {
   "cell_type": "code",
   "execution_count": null,
   "metadata": {},
   "outputs": [],
   "source": []
  }
 ],
 "metadata": {
  "kernelspec": {
   "display_name": "Python 3",
   "language": "python",
   "name": "python3"
  },
  "language_info": {
   "codemirror_mode": {
    "name": "ipython",
    "version": 3
   },
   "file_extension": ".py",
   "mimetype": "text/x-python",
   "name": "python",
   "nbconvert_exporter": "python",
   "pygments_lexer": "ipython3",
   "version": "3.7.3"
  }
 },
 "nbformat": 4,
 "nbformat_minor": 2
}
